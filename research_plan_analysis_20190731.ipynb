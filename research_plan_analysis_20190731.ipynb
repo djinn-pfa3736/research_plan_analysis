{
 "cells": [
  {
   "cell_type": "code",
   "execution_count": 3,
   "metadata": {},
   "outputs": [
    {
     "name": "stderr",
     "output_type": "stream",
     "text": [
      "/home/djinn/.local/lib/python3.5/site-packages/smart_open/smart_open_lib.py:398: UserWarning: This function is deprecated, use smart_open.open instead. See the migration notes for details: https://github.com/RaRe-Technologies/smart_open/blob/master/README.rst#migrating-to-the-new-open-function\n",
      "  'See the migration notes for details: %s' % _MIGRATION_NOTES_URL\n"
     ]
    },
    {
     "name": "stdout",
     "output_type": "stream",
     "text": [
      "0.8419689536094666\n"
     ]
    }
   ],
   "source": [
    "import gensim\n",
    "import MeCab\n",
    "import numpy as np\n",
    "from scipy import spatial\n",
    "\n",
    "# word2vec_model = gensim.models.KeyedVectors.load_word2vec_format('./dataset/model.vec', binary=False)\n",
    "word2vec_model = gensim.models.KeyedVectors.load_word2vec_format('./dataset/entity_vector.model.bin', binary=True)\n",
    "# word2vec_model = gensim.models.Word2Vec.load('./dataset/ja.bin')\n",
    "# word2vec_model = gensim.models.Word2Vec.load('./dataset/entity_vector.model.bin')\n",
    "\n",
    "# mecab = MeCab.Tagger(\"-d /usr/local/lib/mecab/dic/mecab-ipadic-neologd -Owakati\")\n",
    "# mecab = MeCab.Tagger(\"-d /var/lib/mecab/dic/ipadic-utf8 -Owakati\")\n",
    "mecab = MeCab.Tagger(\"-d /var/lib/mecab/dic/ipadic-utf8\")\n",
    "# mecab = MeCab.Tagger(\"\")\n",
    "\n",
    "def avg_feature_vector(noun_bag, model, num_features): \n",
    "    feature_vec = np.zeros((num_features,), dtype=\"float32\") \n",
    "    for noun in noun_bag:\n",
    "        try:\n",
    "            feature_vec = np.add(feature_vec, model[noun])\n",
    "        except KeyError:\n",
    "            print(\"There is no key: \" + noun)\n",
    "    if len(noun_bag) > 0:\n",
    "        feature_vec = np.divide(feature_vec, len(noun_bag))\n",
    "    return feature_vec\n",
    "\n",
    "# ２つの文章の類似度を算出\n",
    "def sentence_similarity(sentence1, sentence2):\n",
    "    \n",
    "    parse_results1 = mecab.parse(sentence1)\n",
    "    parse_results2 = mecab.parse(sentence2)\n",
    "    \n",
    "    noun_bag1 = []\n",
    "    for res in parse_results1.split('\\n'):\n",
    "        cols = res.split('\\t')\n",
    "        if(1 < len(cols)):\n",
    "            parts = cols[1].split(',')\n",
    "            if(parts[0].startswith('名詞')):\n",
    "                noun_bag1.append(cols[0])\n",
    "\n",
    "    noun_bag2 = []\n",
    "    for res in parse_results2.split('\\n'):\n",
    "        cols = res.split('\\t')\n",
    "        if(1 < len(cols)):\n",
    "            parts = cols[1].split(',')\n",
    "            if(parts[0].startswith('名詞')):\n",
    "                noun_bag2.append(cols[0])\n",
    "\n",
    "    \n",
    "    # num_features=300\n",
    "    num_features = 200\n",
    "    sentence_1_avg_vector = avg_feature_vector(noun_bag1, word2vec_model, num_features)\n",
    "    sentence_2_avg_vector = avg_feature_vector(noun_bag2, word2vec_model, num_features)\n",
    "    return 1 - spatial.distance.cosine(sentence_1_avg_vector, sentence_2_avg_vector)\n",
    "\n",
    "result = sentence_similarity(\n",
    "    \"彼は昨日、激辛ラーメンを食べてお腹を壊した\",\n",
    "    \"昨日、僕も激辛の中華料理を食べてお腹を壊した\"\n",
    ")\n",
    "print(result)\n"
   ]
  },
  {
   "cell_type": "code",
   "execution_count": 6,
   "metadata": {},
   "outputs": [
    {
     "name": "stdout",
     "output_type": "stream",
     "text": [
      "【研究の動機】私は今学校でクイズ研究会に所属しています\n",
      "0.443587064743042\n",
      "この部活では、主に早押しクイズをしており、知識だけでなく早さ（速さ）も求められます\n",
      "0.3979988098144531\n",
      "私は「自分がわかった瞬間」にボタンを押す、という反応が鈍いため、この早押しクイズが苦手です\n",
      "0.8276987671852112\n",
      "そこで、自分と押し勝てる（クイズで、他の人よりボタンを早く押し解答権を得ることを「押し勝つ」といいます）人とではどのような違いがあるのか知りたいと思いました\n",
      "0.7742905020713806\n",
      "【研究の目的】人が刺激を受けてから反応するまでの時間を、条件を変えながら測定することで、何の違いによって人の反応速度は変化するのか、ということを明らかにしたい\n",
      "0.876459002494812\n",
      "また、実験結果から、人の反応速度をあげるにはどうすればよいかの方法も考察したい\n",
      "0.6754539012908936\n",
      "「実験」では、身体のコンディションが違う人たちのグループ（A）と、個人の生まれ持ったものや能力が違う人たちのグループ（B）の大きく２グループに分け、全ての実験を２グループとも行うものとする\n",
      "0.5330678224563599\n",
      "（A）A1.空腹かどうか｛a　食後すぐの人（１０人）\n",
      "0.7839764952659607\n",
      "b　食後５時間が経ち、空腹の人（１０人）\n",
      "0.8921685814857483\n",
      "｝A2.眠いかどうか｛a　７時間睡眠をとった人（１０人）\n",
      "0.8017783761024475\n",
      "b　徹夜明けの人（１０人）\n",
      "0.7758699655532837\n",
      "｝A3.疲れているかどうか｛a　７時間睡眠をとった人【疲労感なし】（１０人）\n",
      "0.8188786506652832\n",
      "b　１時間計算問題を解き続けた人【精神的疲労】（１０人）\n",
      "0.9465337991714478\n",
      "c　１時間運動し続けた人【肉体的疲労】（１０人）\n",
      "0.5874164700508118\n",
      "｝（B）B1.男女の違い｛a　男性（１０人）\n",
      "0.7504124045372009\n",
      "b　女性（１０人）\n",
      "0.7552652359008789\n",
      "｝B2.運動能力の違い｛a　スポーツ競技経験が１年以上ある人（１０人）\n",
      "0.7297317385673523\n",
      "b　特に何もしていない人（１０人）\n",
      "0.5355839133262634\n",
      "｝全ての実験を一人７回ずつ測定し、最高記録と最低記録を除外したあと、残りの５回の平均値を出す\n",
      "0.6555816531181335\n",
      "そしてグループごとの平均値を出す\n",
      "nan\n",
      "\n"
     ]
    }
   ],
   "source": [
    "import csv\n",
    "\n",
    "with open(\"./dataset/H30_kagaku.csv\") as f:\n",
    "    reader = csv.reader(f)\n",
    "    data = [row for row in reader]\n",
    "\n",
    "student_id = 4\n",
    "sentences = data[student_id][8].split(\"。\")\n",
    "\n",
    "sim_vec = []\n",
    "for i in range(0, len(sentences)-1):\n",
    "    sentence1 = sentences[i]\n",
    "    sentence2 = sentences[i + 1]\n",
    "    \n",
    "    sim_val = sentence_similarity(sentence1, sentence2)\n",
    "    sim_vec.append(sim_val) \n",
    "# print(sim_vec)\n",
    "    \n",
    "print(sentences[0])\n",
    "for i in range(0, len(sentences)-1):\n",
    "    print(sim_vec[i])\n",
    "    print(sentences[i + 1])"
   ]
  },
  {
   "cell_type": "code",
   "execution_count": null,
   "metadata": {},
   "outputs": [],
   "source": []
  }
 ],
 "metadata": {
  "kernelspec": {
   "display_name": "Python 3",
   "language": "python",
   "name": "python3"
  },
  "language_info": {
   "codemirror_mode": {
    "name": "ipython",
    "version": 3
   },
   "file_extension": ".py",
   "mimetype": "text/x-python",
   "name": "python",
   "nbconvert_exporter": "python",
   "pygments_lexer": "ipython3",
   "version": "3.5.2"
  }
 },
 "nbformat": 4,
 "nbformat_minor": 2
}
